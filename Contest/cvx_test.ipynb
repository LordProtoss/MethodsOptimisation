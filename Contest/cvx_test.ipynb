{
 "cells": [
  {
   "cell_type": "code",
   "execution_count": 16,
   "metadata": {},
   "outputs": [
    {
     "name": "stdout",
     "output_type": "stream",
     "text": [
      "     pcost       dcost       gap    pres   dres   k/t\n",
      " 0: -2.0538e+01 -4.8231e+01  1e+01  0e+00  9e-01  1e+00\n",
      " 1: -2.1458e+01 -2.4049e+01  9e-01  8e-17  8e-02  8e-02\n",
      " 2: -2.1993e+01 -2.2046e+01  2e-02  2e-16  2e-03  2e-03\n",
      " 3: -2.2000e+01 -2.2000e+01  2e-04  2e-16  2e-05  2e-05\n",
      " 4: -2.2000e+01 -2.2000e+01  2e-06  8e-17  2e-07  2e-07\n",
      " 5: -2.2000e+01 -2.2000e+01  2e-08  2e-16  2e-09  2e-09\n",
      "Optimal solution found.\n",
      "Point:\n",
      "[ 3.00e+00]\n",
      "[ 2.00e+00]\n",
      "\n",
      "Value:\n",
      "21.999999993380623\n"
     ]
    }
   ],
   "source": [
    "from cvxopt import matrix, solvers\n",
    "c = matrix([-4., -5.])\n",
    "G = matrix([[2., 1., 0., 0., -1.], [1., 2., 1., -1., 0.]])\n",
    "h = matrix([8., 7., 3., 0., 0.])\n",
    "sol = solvers.lp(c, G, h)\n",
    "print(\"Point:\")\n",
    "print(sol['x'])\n",
    "print(\"Value:\")\n",
    "result = 0\n",
    "for i in range(2):\n",
    "    result -= c[i] * sol['x'][i]\n",
    "print(result)"
   ]
  },
  {
   "cell_type": "code",
   "execution_count": 17,
   "metadata": {},
   "outputs": [
    {
     "name": "stdout",
     "output_type": "stream",
     "text": [
      "     pcost       dcost       gap    pres   dres   k/t\n",
      " 0: -1.7537e+03 -4.6124e+03  1e+03  1e-01  1e+00  1e+00\n",
      " 1: -1.9002e+03 -3.3677e+03  6e+02  6e-02  7e-01  1e+01\n",
      " 2: -2.0503e+03 -3.6352e+03  9e+02  7e-02  8e-01  4e+01\n",
      " 3: -2.1014e+03 -2.1512e+03  2e+01  2e-03  3e-02  3e+00\n",
      " 4: -2.1000e+03 -2.1005e+03  2e-01  2e-05  3e-04  3e-02\n",
      " 5: -2.1000e+03 -2.1000e+03  2e-03  2e-07  3e-06  3e-04\n",
      " 6: -2.1000e+03 -2.1000e+03  2e-05  2e-09  3e-08  3e-06\n",
      "Optimal solution found.\n",
      "Point:\n",
      "[-1.46e-07]\n",
      "[ 5.00e+01]\n",
      "[ 7.50e+01]\n",
      "\n",
      "Value:\n",
      "2100.000001311175\n"
     ]
    }
   ],
   "source": [
    "from cvxopt import matrix, solvers\n",
    "c = matrix([-10., -12., -20.])\n",
    "G = matrix([[1., 1., 2., 2., 0., 0., -1], [2., 0., 1., 3., 0., -1, 0], [0., 2., 0., 1., -1., 0., 0.]])\n",
    "h = matrix([150., 150., 80., 225., 0., 0., 0.])\n",
    "sol = solvers.lp(c, G, h)\n",
    "print(\"Point:\")\n",
    "print(sol['x'])\n",
    "print(\"Value:\")\n",
    "result = 0.\n",
    "for i in range(3):\n",
    "    result -= c[i] * sol['x'][i]\n",
    "print(result)"
   ]
  },
  {
   "cell_type": "code",
   "execution_count": 15,
   "metadata": {},
   "outputs": [
    {
     "name": "stdout",
     "output_type": "stream",
     "text": [
      "     pcost       dcost       gap    pres   dres   k/t\n",
      " 0: -3.2476e+03 -5.2784e+03  7e+02  0e+00  4e-01  1e+00\n",
      " 1: -3.5884e+03 -3.8092e+03  6e+01  7e-17  5e-02  4e+00\n",
      " 2: -3.5999e+03 -3.6022e+03  6e-01  3e-16  5e-04  4e-02\n",
      " 3: -3.6000e+03 -3.6000e+03  6e-03  2e-16  5e-06  4e-04\n",
      " 4: -3.6000e+03 -3.6000e+03  6e-05  4e-16  5e-08  4e-06\n",
      "Optimal solution found.\n",
      "Point:\n",
      "[ 2.00e+00]\n",
      "[ 6.00e+00]\n",
      "\n",
      "Value:\n",
      "3599.999987339188\n"
     ]
    }
   ],
   "source": [
    "from cvxopt import matrix, solvers\n",
    "c = matrix([-300., -500.])\n",
    "G = matrix([[1., 0., 3., 0., -1.], [0., 2., 2., -1., 0.]])\n",
    "h = matrix([4., 12., 18., 0., 0.])\n",
    "sol = solvers.lp(c, G, h)\n",
    "print(\"Point:\")\n",
    "print(sol['x'])\n",
    "print(\"Value:\")\n",
    "result = 0.\n",
    "for i in range(2):\n",
    "    result -= c[i] * sol['x'][i]\n",
    "print(result)"
   ]
  },
  {
   "cell_type": "code",
   "execution_count": 19,
   "metadata": {},
   "outputs": [
    {
     "name": "stdout",
     "output_type": "stream",
     "text": [
      "     pcost       dcost       gap    pres   dres   k/t\n",
      " 0: -1.6089e+04 -2.6172e+04  5e+03  1e-01  6e-01  1e+00\n",
      " 1: -1.6265e+04 -1.7018e+04  2e+02  9e-03  4e-02  1e+01\n",
      " 2: -1.6188e+04 -1.6257e+04  2e+01  9e-04  4e-03  2e+00\n",
      " 3: -1.6188e+04 -1.6188e+04  2e-01  9e-06  4e-05  2e-02\n",
      " 4: -1.6188e+04 -1.6188e+04  2e-03  9e-08  4e-07  2e-04\n",
      " 5: -1.6188e+04 -1.6188e+04  2e-05  9e-10  4e-09  2e-06\n",
      "Optimal solution found.\n",
      "Point:\n",
      "[ 2.50e+02]\n",
      "[ 2.48e-06]\n",
      "[ 8.75e+02]\n",
      "\n",
      "Value:\n",
      "18187.500000745036\n"
     ]
    }
   ],
   "source": [
    "from cvxopt import matrix, solvers\n",
    "c = matrix([-17.5, -22.5, -13.5])\n",
    "G = matrix([[5., 3., 2., 0.25, 0., 0., -1], [5., 0., 5., 0.5, 0., -1, 0], [2., 0., 4., 1. / 6., -1., 0., 0.]])\n",
    "h = matrix([3000., 1000., 4000., 250., 0., 0., 0.])\n",
    "sol = solvers.lp(c, G, h)\n",
    "print(\"Point:\")\n",
    "print(sol['x'])\n",
    "print(\"Value:\")\n",
    "result = 2000.\n",
    "for i in range(3):\n",
    "    result -= c[i] * sol['x'][i]\n",
    "print(result)"
   ]
  },
  {
   "cell_type": "code",
   "execution_count": 20,
   "metadata": {},
   "outputs": [
    {
     "name": "stdout",
     "output_type": "stream",
     "text": [
      "     pcost       dcost       gap    pres   dres   k/t\n",
      " 0: -4.0862e+03 -1.9286e+04  2e+04  0e+00  5e-03  1e+00\n",
      " 1: -6.9402e+03 -9.5960e+03  3e+03  2e-16  9e-04  5e+01\n",
      " 2: -8.0158e+03 -9.4635e+03  2e+03  3e-16  5e-04  5e+01\n",
      " 3: -7.9652e+03 -9.8917e+03  3e+03  3e-16  7e-04  1e+02\n",
      " 4: -9.3839e+03 -9.8728e+03  7e+02  2e-16  2e-04  6e+01\n",
      " 5: -9.6550e+03 -9.6859e+03  5e+01  5e-16  1e-05  5e+00\n",
      " 6: -9.6665e+03 -9.6669e+03  5e-01  3e-16  1e-07  5e-02\n",
      " 7: -9.6667e+03 -9.6667e+03  5e-03  3e-16  1e-09  5e-04\n",
      "Optimal solution found.\n",
      "Point:\n",
      "[ 1.67e+01]\n",
      "[ 2.40e-06]\n",
      "[ 3.33e+03]\n",
      "[ 3.11e-04]\n",
      "\n",
      "Value:\n",
      "9666.665490331518\n"
     ]
    }
   ],
   "source": [
    "from cvxopt import matrix, solvers\n",
    "c = matrix([-500., -500., -0.4, 4.])\n",
    "G = matrix([[500., 0., 0., -1., 0., 0., 0., -500., 0.], \n",
    "            [0., 250., 0., 0., -1., 0., 0., 0., -250.], \n",
    "            [-1., 0.6, 0., 0., 0., -1., 0., 1., -0.6], \n",
    "            [0., -1., 0.4, 0., 0., 0., -1., 0., 1.]])\n",
    "h = matrix([5000., 2000., 600., 0., 0., 0., 0., 0., 0.])\n",
    "sol = solvers.lp(c, G, h)\n",
    "print(\"Point:\")\n",
    "print(sol['x'])\n",
    "print(\"Value:\")\n",
    "result = 0.\n",
    "for i in range(4):\n",
    "    result -= c[i] * sol['x'][i]\n",
    "print(result)"
   ]
  },
  {
   "cell_type": "code",
   "execution_count": null,
   "metadata": {},
   "outputs": [],
   "source": []
  }
 ],
 "metadata": {
  "kernelspec": {
   "display_name": "Python 3",
   "language": "python",
   "name": "python3"
  },
  "language_info": {
   "codemirror_mode": {
    "name": "ipython",
    "version": 3
   },
   "file_extension": ".py",
   "mimetype": "text/x-python",
   "name": "python",
   "nbconvert_exporter": "python",
   "pygments_lexer": "ipython3",
   "version": "3.6.5"
  }
 },
 "nbformat": 4,
 "nbformat_minor": 2
}
