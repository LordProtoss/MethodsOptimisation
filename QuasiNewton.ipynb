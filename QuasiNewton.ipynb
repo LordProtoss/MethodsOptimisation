{
 "cells": [
  {
   "cell_type": "code",
   "execution_count": 1,
   "metadata": {
    "scrolled": false
   },
   "outputs": [
    {
     "data": {
      "text/plain": [
       "<Figure size 640x480 with 1 Axes>"
      ]
     },
     "metadata": {},
     "output_type": "display_data"
    },
    {
     "name": "stdout",
     "output_type": "stream",
     "text": [
      "Calculated:\n",
      "Function:  23\n",
      "Gradient:  23\n",
      "Gessian:  0\n",
      "Point:  [3.94676206e-12 1.00000000e+00]\n",
      "Value:  2.2145699244650876\n"
     ]
    },
    {
     "data": {
      "text/plain": [
       "<Figure size 640x480 with 1 Axes>"
      ]
     },
     "metadata": {},
     "output_type": "display_data"
    },
    {
     "name": "stdout",
     "output_type": "stream",
     "text": [
      "Calculated:\n",
      "Function:  21\n",
      "Gradient:  21\n",
      "Gessian:  0\n",
      "Point:  [1.39281799e-01 1.36283168e-01 1.79660782e-01 1.18365063e-01\n",
      " 1.28419149e-02 7.46129311e-02 1.51962617e-01 6.41027870e-02\n",
      " 1.22888938e-01 1.31549227e-11]\n",
      "Value:  0.6812078389171701\n"
     ]
    },
    {
     "data": {
      "text/plain": [
       "<Figure size 640x480 with 1 Axes>"
      ]
     },
     "metadata": {},
     "output_type": "display_data"
    },
    {
     "data": {
      "text/plain": [
       "<Figure size 640x480 with 1 Axes>"
      ]
     },
     "metadata": {},
     "output_type": "display_data"
    },
    {
     "data": {
      "text/plain": [
       "<Figure size 640x480 with 1 Axes>"
      ]
     },
     "metadata": {},
     "output_type": "display_data"
    },
    {
     "data": {
      "text/plain": [
       "<Figure size 640x480 with 1 Axes>"
      ]
     },
     "metadata": {},
     "output_type": "display_data"
    }
   ],
   "source": [
    "import numpy as np\n",
    "import scipy.stats as st\n",
    "import copy\n",
    "import math\n",
    "import matplotlib\n",
    "import time\n",
    "from matplotlib import pyplot as plt\n",
    "\n",
    "class Oracle:\n",
    "    def __init__(self, p, pi):\n",
    "        assert(p.shape[1] == pi.shape[0])\n",
    "        self.__pi = copy.copy(pi)\n",
    "        self.__p = copy.copy(p)\n",
    "        self.__calc = 0\n",
    "        self.__grad = 0\n",
    "        self.__gess = 0\n",
    "    \n",
    "    def Calculate(self, x):\n",
    "        self.__calc += 1\n",
    "        return np.sum(self.__pi * np.log(self.__p.T @ x))\n",
    "    \n",
    "    def CalculateGradient(self, x):\n",
    "        self.__grad += 1\n",
    "        return self.__p @ (self.__pi * (self.__p.T @ x)**(-1))\n",
    "    \n",
    "    def CalculateGessian(self, x):\n",
    "        self.__gess += 1\n",
    "        return -self.__p @ np.diagflat(self.__pi * (self.__p.T @ x)**(-2)) @ self.__p.T\n",
    "    \n",
    "    @property\n",
    "    def Calculated(self):\n",
    "        return self.__calc;\n",
    "    \n",
    "    @property\n",
    "    def CalculatedGradients(self):\n",
    "        return self.__grad;\n",
    "    \n",
    "    @property\n",
    "    def CalculatedGessians(self):\n",
    "        return self.__gess;\n",
    "    \n",
    "def Normalization(A):\n",
    "    assert(A.shape[0] == A.shape[1])\n",
    "    return A - np.eye(A.shape[0])\n",
    "    \n",
    "class QuasiNewtonIterator:\n",
    "    def __init__(self, begin, oracle, projector, step_choser, priority, checker, normalizator):\n",
    "        self.__point = copy.copy(begin)\n",
    "        self.__oracle = copy.copy(oracle)\n",
    "        self.__projector = copy.copy(projector)\n",
    "        self.__step_choser = copy.copy(step_choser)\n",
    "        self.__priority = copy.copy(priority)\n",
    "        self.__checker = copy.copy(checker)\n",
    "        self.__normalizator = copy.copy(normalizator)\n",
    "        self.__step = 1.0\n",
    "        self.__value = oracle.Calculate(begin)\n",
    "        self.__grad = oracle.CalculateGradient(begin)\n",
    "        self.__C = -np.eye(begin.size)\n",
    "    def MakeStep(self):\n",
    "        direction = self.__projector(self.__C @ self.__grad)\n",
    "        old_value = self.__value\n",
    "        dpoint = self.__point\n",
    "        new_point = self.__point - self.__step * direction\n",
    "        while (not self.__checker(new_point)):\n",
    "            self.__step = self.__step_choser(self.__step, False)\n",
    "            new_point = self.__point - self.__step * direction\n",
    "        new_value = self.__oracle.Calculate(new_point)\n",
    "        self.__step = self.__step_choser(self.__step, True)\n",
    "        dpoint = new_point - self.__point\n",
    "        self.__point = new_point\n",
    "        self.__value = new_value\n",
    "        new_grad = self.__oracle.CalculateGradient(self.__point)\n",
    "        dgrad = new_grad - self.__grad\n",
    "        self.__grad = new_grad\n",
    "        dpoint = dpoint.reshape(dpoint.size, 1)\n",
    "        dgrad = dgrad.reshape(dgrad.size, 1)\n",
    "        p = 1 / np.sum(dgrad.T @ dpoint)\n",
    "        prom1 = np.eye(dpoint.size) - p * dpoint @ dgrad.T\n",
    "        prom2 = np.eye(dpoint.size) - p * dgrad @ dpoint.T\n",
    "        prom3 = p * dpoint @ dpoint.T\n",
    "        self.__C = prom1 @ self.__C @ prom2 + prom3\n",
    "    \n",
    "    @property\n",
    "    def Oracle(self):\n",
    "        return self.__oracle\n",
    "    \n",
    "    @property\n",
    "    def Value(self):\n",
    "        return self.__value\n",
    "    \n",
    "    @property\n",
    "    def Point(self):\n",
    "        return self.__point\n",
    "    \n",
    "def Projector(x):\n",
    "    y = x - np.sum(x) * np.ones(x.size) / x.size\n",
    "    return y\n",
    "\n",
    "def StepChoser(prev, success):\n",
    "    next = prev\n",
    "    if success:\n",
    "        if (next < 1.0):\n",
    "            next *= 2.0\n",
    "            if (next > 1):\n",
    "                next = 1.0\n",
    "    else:\n",
    "        next /= 2.0\n",
    "    return next \n",
    "\n",
    "def Checker(x):\n",
    "    if (not np.all(x > 0)):\n",
    "        return False\n",
    "    else:\n",
    "        return True\n",
    "    \n",
    "def PriorityMax(x, y):\n",
    "    return x > y\n",
    "    \n",
    "class QuasiNewtonSpecializatorMax(QuasiNewtonIterator):\n",
    "    def __init__(self, begin, p, pi):\n",
    "        QuasiNewtonIterator.__init__(self, begin, Oracle(p, pi), Projector, StepChoser, PriorityMax, Checker, Normalization)\n",
    "        \n",
    "def FindMax(begin, p, pi, mistake):\n",
    "    iterator = QuasiNewtonSpecializatorMax(begin, p, pi)\n",
    "    prev = iterator.Value\n",
    "    finished = False\n",
    "    while(not finished):\n",
    "        iterator.MakeStep()\n",
    "        next = iterator.Value\n",
    "        finished = (np.abs(next - prev) < mistake)\n",
    "        prev = next\n",
    "    return iterator\n",
    "\n",
    "def GraphicMax(begin, p, pi, mistake):\n",
    "    iterator = QuasiNewtonSpecializatorMax(begin, p, pi)\n",
    "    iterations = np.array([iterator.Value])\n",
    "    prev = iterator.Value\n",
    "    finished = False\n",
    "    while(not finished):\n",
    "        iterator.MakeStep()\n",
    "        iterations = np.append(iterations, iterator.Value)\n",
    "        next = iterator.Value\n",
    "        finished = (np.abs(next - prev) < mistake)\n",
    "        prev = next\n",
    "    plt.xlabel(\"Iteration\")\n",
    "    plt.ylabel(\"Difference with final value\")\n",
    "    plt.loglog(np.arange(iterations.size) + 1, np.abs(prev - iterations), \"b-\")\n",
    "    plt.show()\n",
    "    return iterator\n",
    "\n",
    "def IterationsMistake(n, m, mistake):\n",
    "    N = 10\n",
    "    iterations_calc = np.zeros(0)\n",
    "    iterations_grad = np.zeros(0)\n",
    "    iterations_gess = np.zeros(0)\n",
    "    iterations_time = np.zeros(0)\n",
    "    for diff in mistake:\n",
    "        calc = 0\n",
    "        grad = 0\n",
    "        gess = 0\n",
    "        spend = 0.\n",
    "        for i in range(N):\n",
    "            p = np.abs(np.random.rand(n, m) * 5)\n",
    "            pi = np.abs(np.random.rand(m))\n",
    "            pi /= np.sum(pi)\n",
    "            begin = np.ones(n) / n\n",
    "            begin_time = time.time()\n",
    "            iterator = FindMax(begin, p, pi, diff)\n",
    "            end_time = time.time()\n",
    "            calc += iterator.Oracle.Calculated\n",
    "            grad += iterator.Oracle.CalculatedGradients\n",
    "            gess += iterator.Oracle.CalculatedGessians\n",
    "            spend += end_time - begin_time\n",
    "        calc /= N\n",
    "        grad /= N\n",
    "        gess /= N\n",
    "        spend /= N\n",
    "        iterations_calc = np.append(iterations_calc, calc)\n",
    "        iterations_grad = np.append(iterations_grad, grad)\n",
    "        iterations_gess = np.append(iterations_gess, gess)\n",
    "        iterations_time = np.append(iterations_time, spend)\n",
    "    plt.xlabel(\"Mistake\")\n",
    "    plt.ylabel(\"Average number\")\n",
    "    plt.semilogx(mistake, iterations_grad)\n",
    "    plt.legend([\"Functions\"])\n",
    "    plt.show()\n",
    "    plt.xlabel(\"Mistake\")\n",
    "    plt.ylabel(\"Average number\")\n",
    "    plt.semilogx(mistake, iterations_grad)\n",
    "    plt.legend([\"Gradients\"])\n",
    "    plt.show()\n",
    "    plt.xlabel(\"Mistake\")\n",
    "    plt.ylabel(\"Average number\")\n",
    "    plt.semilogx(mistake, iterations_gess)\n",
    "    plt.legend([\"Gessians\"])\n",
    "    plt.show()\n",
    "    plt.xlabel(\"Mistake\")\n",
    "    plt.ylabel(\"Average number\")\n",
    "    plt.semilogx(mistake, iterations_time)\n",
    "    plt.legend([\"Time\"])\n",
    "    plt.show()\n",
    "    \n",
    "def Test():\n",
    "    n = 2\n",
    "    m = 3\n",
    "    p = np.array([[1, 2, 3], [10, 9, 8]])\n",
    "    pi = np.array([0.5, 0.2, 0.3])\n",
    "    begin = np.ones(n) / n\n",
    "    iterator = GraphicMax(begin, p, pi, 10**(-10))\n",
    "    print(\"Calculated:\")\n",
    "    print(\"Function: \", iterator.Oracle.Calculated)\n",
    "    print(\"Gradient: \", iterator.Oracle.CalculatedGradients)\n",
    "    print(\"Gessian: \", iterator.Oracle.CalculatedGessians)\n",
    "    print(\"Point: \", iterator.Point)\n",
    "    print(\"Value: \", iterator.Value)\n",
    "    \n",
    "def RandomTest():\n",
    "    n = 10\n",
    "    m = 10\n",
    "    p = np.abs(np.random.rand(n, m) * 5)\n",
    "    pi = np.abs(np.random.rand(m))\n",
    "    pi /= np.sum(pi)\n",
    "    begin = np.ones(n) / n\n",
    "    iterator = GraphicMax(begin, p, pi, 10**(-10))\n",
    "    print(\"Calculated:\")\n",
    "    print(\"Function: \", iterator.Oracle.Calculated)\n",
    "    print(\"Gradient: \", iterator.Oracle.CalculatedGradients)\n",
    "    print(\"Gessian: \", iterator.Oracle.CalculatedGessians)\n",
    "    print(\"Point: \", iterator.Point)\n",
    "    print(\"Value: \", iterator.Value)\n",
    "    \n",
    "Test()\n",
    "RandomTest()\n",
    "n = 10\n",
    "m = 10\n",
    "IterationsMistake(n, m, 10**(-1 * np.arange(1, 44) / 4.0))"
   ]
  },
  {
   "cell_type": "code",
   "execution_count": 2,
   "metadata": {},
   "outputs": [
    {
     "name": "stdout",
     "output_type": "stream",
     "text": [
      "[[1]\n",
      " [2]\n",
      " [3]]\n",
      "[[1 2 3]]\n"
     ]
    }
   ],
   "source": [
    "dgrad = np.array([1, 2, 3])\n",
    "dgrad = dgrad.reshape(dgrad.size, 1)\n",
    "print(dgrad)\n",
    "print(dgrad.T)"
   ]
  },
  {
   "cell_type": "code",
   "execution_count": null,
   "metadata": {},
   "outputs": [],
   "source": []
  }
 ],
 "metadata": {
  "kernelspec": {
   "display_name": "Python 3",
   "language": "python",
   "name": "python3"
  },
  "language_info": {
   "codemirror_mode": {
    "name": "ipython",
    "version": 3
   },
   "file_extension": ".py",
   "mimetype": "text/x-python",
   "name": "python",
   "nbconvert_exporter": "python",
   "pygments_lexer": "ipython3",
   "version": "3.7.0"
  }
 },
 "nbformat": 4,
 "nbformat_minor": 2
}
