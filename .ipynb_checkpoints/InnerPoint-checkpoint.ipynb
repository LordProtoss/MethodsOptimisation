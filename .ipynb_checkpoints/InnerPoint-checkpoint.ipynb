{
 "cells": [
  {
   "cell_type": "code",
   "execution_count": 4,
   "metadata": {},
   "outputs": [],
   "source": [
    "import numpy as np\n",
    "import scipy.stats as st\n",
    "import copy\n",
    "import math\n",
    "import matplotlib\n",
    "from matplotlib import pyplot as plt"
   ]
  },
  {
   "cell_type": "code",
   "execution_count": 16,
   "metadata": {},
   "outputs": [
    {
     "ename": "SyntaxError",
     "evalue": "invalid syntax (<ipython-input-16-6da009d0ab8c>, line 21)",
     "output_type": "error",
     "traceback": [
      "\u001b[1;36m  File \u001b[1;32m\"<ipython-input-16-6da009d0ab8c>\"\u001b[1;36m, line \u001b[1;32m21\u001b[0m\n\u001b[1;33m    return -1.0 * self.__p @ np.diagflat(self.__pi * (self.__p.T @ x)**(-2)) @ self.__p.T - /\u001b[0m\n\u001b[1;37m                                                                                            ^\u001b[0m\n\u001b[1;31mSyntaxError\u001b[0m\u001b[1;31m:\u001b[0m invalid syntax\n"
     ]
    }
   ],
   "source": [
    "class Oracle:\n",
    "    def __init__(self, p, pi, t):\n",
    "        assert(p.shape[1] == pi.shape[0])\n",
    "        self.__pi = copy.copy(pi)\n",
    "        self.__p = copy.copy(p)\n",
    "        self.__t = t\n",
    "        self.__calc = 0\n",
    "        self.__grad = 0\n",
    "        self.__gess = 0\n",
    "    \n",
    "    def Calculate(self, x):\n",
    "        self.__calc += 1\n",
    "        return np.sum(self.__pi * np.log(self.__p.T @ x))\n",
    "    \n",
    "    def CalculateGradient(self, x):\n",
    "        self.__grad += 1\n",
    "        return self.__p @ (self.__pi * (self.__p.T @ x)**(-1)) + self.__t * np.array([1 / xi for xi in x])\n",
    "    \n",
    "    def CalculateGessian(self, x):\n",
    "        self.__gess += 1\n",
    "        return -1.0 * self.__p @ np.diagflat(self.__pi * (self.__p.T @ x)**(-2)) @ self.__p.T - /\n",
    "    self.__t * np.diag([1 / xi**2 for xi in x]) \n",
    "    \n",
    "    @property\n",
    "    def Calculated(self):\n",
    "        return self.__calc;\n",
    "    \n",
    "    @property\n",
    "    def CalculatedGradients(self):\n",
    "        return self.__grad;\n",
    "    \n",
    "    @property\n",
    "    def CalculatedGessians(self):\n",
    "        return self.__gess;\n",
    "    \n",
    "def Normalization(A):\n",
    "    assert(A.shape[0] == A.shape[1])\n",
    "    return A - np.eye(A.shape[0])\n",
    "    \n",
    "class NewtonIterator:\n",
    "    def __init__(self, begin, oracle, projector, step_choser, priority, checker, normalizator):\n",
    "        self.__point = copy.copy(begin)\n",
    "        self.__oracle = copy.copy(oracle)\n",
    "        self.__projector = copy.copy(projector)\n",
    "        self.__step_choser = copy.copy(step_choser)\n",
    "        self.__priority = copy.copy(priority)\n",
    "        self.__checker = copy.copy(checker)\n",
    "        self.__normalizator = copy.copy(normalizator)\n",
    "        self.__step = 1.0\n",
    "        self.__value = oracle.Calculate(begin)\n",
    "    def MakeStep(self):\n",
    "        gess = self.__oracle.CalculateGessian(self.__point)\n",
    "        grad = self.__oracle.CalculateGradient(self.__point)\n",
    "        gess = np.linalg.inv(self.__normalizator(gess))\n",
    "        direction = gess @ self.__projector(grad)\n",
    "        old_value = self.__value\n",
    "        improve = False\n",
    "        while (not improve):\n",
    "            new_point = self.__point - self.__step * direction\n",
    "            if (not self.__checker(new_point)):\n",
    "                self.__step = self.__step_choser(self.__step, False)\n",
    "            else:\n",
    "                new_value = self.__oracle.Calculate(new_point)\n",
    "                improve = self.__priority(new_value, old_value)\n",
    "                self.__step = self.__step_choser(self.__step, improve)\n",
    "                if (improve):\n",
    "                    self.__point = new_point\n",
    "                    self.__value = new_value\n",
    "    \n",
    "    @property\n",
    "    def Oracle(self):\n",
    "        return self.__oracle\n",
    "    \n",
    "    @property\n",
    "    def Value(self):\n",
    "        return self.__value\n",
    "    \n",
    "    @property\n",
    "    def Point(self):\n",
    "        return self.__point\n",
    "    \n",
    "def Projector(x):\n",
    "    y = x - (np.ones(x.size) @ x) * np.ones(x.size) / x.size\n",
    "    return y\n",
    "\n",
    "def StepChoser(prev, success):\n",
    "    next = prev\n",
    "    if success:\n",
    "        if (next < 1.0):\n",
    "            next *= 2.0\n",
    "            if (next > 1):\n",
    "                next = 1.0\n",
    "    else:\n",
    "        next /= 2.0\n",
    "    return next \n",
    "\n",
    "def Checker(x):\n",
    "    if (not np.all(x > 0)):\n",
    "        print(\"error\")\n",
    "        return False\n",
    "    else:\n",
    "        return True\n",
    "                               \n",
    "class NewtonSpecializator(NewtonIterator):\n",
    "    def __init__(self, begin, p, pi, t):\n",
    "        priority = lambda x, y: x >= y\n",
    "        NewtonIterator.__init__(self, begin, Oracle(p, pi, t), Projector, StepChoser, priority, Checker, Normalization)     \n",
    "\n",
    "def FindMax(begin, p, pi, t, mistake):\n",
    "    iterator = NewtonSpecializator(begin, p, pi, t)\n",
    "    prev = iterator.Value\n",
    "    finished = False\n",
    "    while(not finished):\n",
    "        iterator.MakeStep()\n",
    "        next = iterator.Value\n",
    "        finished = (np.abs(next - prev) < mistake)\n",
    "        prev = next\n",
    "    return iterator\n",
    "        \n",
    "def InnerPoint(begin, p, pi, mistake):\n",
    "    t = 1\n",
    "    m = len(begin)\n",
    "    iterator = NewtonSpecializator(begin, p, pi, t)\n",
    "    finished = False\n",
    "    while(not finished):\n",
    "        iterator = FindMax(iterator.Point, p, pi, t, m * t)\n",
    "        finished = (m * t < mistake)\n",
    "        t /= 5\n",
    "    return point\n",
    "\n",
    "def GraphicInnerPoint(begin, p, pi, mistake):\n",
    "    t = 1\n",
    "    m = len(begin)\n",
    "    iterator = NewtonSpecializator(begin, p, pi, t)\n",
    "    iterations = [iterator.Value]\n",
    "    finished = False\n",
    "    while(not finished):\n",
    "        iterator = FindMax(iterator.Point, p, pi, t, m * t)\n",
    "        iterations.append(iterator.Value)\n",
    "        finished = (m * t < mistake)\n",
    "        t /= 5\n",
    "    plt.xlabel(\"Iteration\")\n",
    "    plt.ylabel(\"Difference with final value\")\n",
    "    plt.plot(np.arange(iterations.size) + 1, prev - iterations, \"b-\")\n",
    "    plt.show()\n",
    "    return iterator"
   ]
  },
  {
   "cell_type": "code",
   "execution_count": 17,
   "metadata": {},
   "outputs": [
    {
     "ename": "NameError",
     "evalue": "name 't' is not defined",
     "output_type": "error",
     "traceback": [
      "\u001b[1;31m---------------------------------------------------------------------------\u001b[0m",
      "\u001b[1;31mNameError\u001b[0m                                 Traceback (most recent call last)",
      "\u001b[1;32m<ipython-input-17-2876ee3808f6>\u001b[0m in \u001b[0;36m<module>\u001b[1;34m()\u001b[0m\n\u001b[0;32m      8\u001b[0m \u001b[0mbegin\u001b[0m \u001b[1;33m=\u001b[0m \u001b[0mnp\u001b[0m\u001b[1;33m.\u001b[0m\u001b[0mones\u001b[0m\u001b[1;33m(\u001b[0m\u001b[0mn\u001b[0m\u001b[1;33m)\u001b[0m \u001b[1;33m/\u001b[0m \u001b[0mn\u001b[0m\u001b[1;33m\u001b[0m\u001b[0m\n\u001b[0;32m      9\u001b[0m \u001b[1;33m\u001b[0m\u001b[0m\n\u001b[1;32m---> 10\u001b[1;33m \u001b[0miterator\u001b[0m \u001b[1;33m=\u001b[0m \u001b[0mGraphicInnerPoint\u001b[0m\u001b[1;33m(\u001b[0m\u001b[0mbegin\u001b[0m\u001b[1;33m,\u001b[0m \u001b[0mp\u001b[0m\u001b[1;33m,\u001b[0m \u001b[0mpi\u001b[0m\u001b[1;33m,\u001b[0m \u001b[1;36m10\u001b[0m\u001b[1;33m**\u001b[0m\u001b[1;33m(\u001b[0m\u001b[1;33m-\u001b[0m\u001b[1;36m10\u001b[0m\u001b[1;33m)\u001b[0m\u001b[1;33m)\u001b[0m\u001b[1;33m\u001b[0m\u001b[0m\n\u001b[0m\u001b[0;32m     11\u001b[0m \u001b[1;33m\u001b[0m\u001b[0m\n\u001b[0;32m     12\u001b[0m \u001b[0mprint\u001b[0m\u001b[1;33m(\u001b[0m\u001b[1;34m\"Calculated:\"\u001b[0m\u001b[1;33m)\u001b[0m\u001b[1;33m\u001b[0m\u001b[0m\n",
      "\u001b[1;32m<ipython-input-12-99989432c30d>\u001b[0m in \u001b[0;36mGraphicInnerPoint\u001b[1;34m(begin, p, pi, mistake)\u001b[0m\n\u001b[0;32m    135\u001b[0m     \u001b[0mfinished\u001b[0m \u001b[1;33m=\u001b[0m \u001b[1;32mFalse\u001b[0m\u001b[1;33m\u001b[0m\u001b[0m\n\u001b[0;32m    136\u001b[0m     \u001b[1;32mwhile\u001b[0m\u001b[1;33m(\u001b[0m\u001b[1;32mnot\u001b[0m \u001b[0mfinished\u001b[0m\u001b[1;33m)\u001b[0m\u001b[1;33m:\u001b[0m\u001b[1;33m\u001b[0m\u001b[0m\n\u001b[1;32m--> 137\u001b[1;33m         \u001b[0miterator\u001b[0m \u001b[1;33m=\u001b[0m \u001b[0mFindMax\u001b[0m\u001b[1;33m(\u001b[0m\u001b[0miterator\u001b[0m\u001b[1;33m.\u001b[0m\u001b[0mPoint\u001b[0m\u001b[1;33m,\u001b[0m \u001b[0mp\u001b[0m\u001b[1;33m,\u001b[0m \u001b[0mpi\u001b[0m\u001b[1;33m,\u001b[0m \u001b[0mt\u001b[0m\u001b[1;33m,\u001b[0m \u001b[0mm\u001b[0m \u001b[1;33m*\u001b[0m \u001b[0mt\u001b[0m\u001b[1;33m)\u001b[0m\u001b[1;33m\u001b[0m\u001b[0m\n\u001b[0m\u001b[0;32m    138\u001b[0m         \u001b[0miterations\u001b[0m\u001b[1;33m.\u001b[0m\u001b[0mappend\u001b[0m\u001b[1;33m(\u001b[0m\u001b[0miterator\u001b[0m\u001b[1;33m.\u001b[0m\u001b[0mValue\u001b[0m\u001b[1;33m)\u001b[0m\u001b[1;33m\u001b[0m\u001b[0m\n\u001b[0;32m    139\u001b[0m         \u001b[0mfinished\u001b[0m \u001b[1;33m=\u001b[0m \u001b[1;33m(\u001b[0m\u001b[0mm\u001b[0m \u001b[1;33m*\u001b[0m \u001b[0mt\u001b[0m \u001b[1;33m<\u001b[0m \u001b[0mmistake\u001b[0m\u001b[1;33m)\u001b[0m\u001b[1;33m\u001b[0m\u001b[0m\n",
      "\u001b[1;32m<ipython-input-12-99989432c30d>\u001b[0m in \u001b[0;36mFindMax\u001b[1;34m(begin, p, pi, t, mistake)\u001b[0m\n\u001b[0;32m    111\u001b[0m     \u001b[0mfinished\u001b[0m \u001b[1;33m=\u001b[0m \u001b[1;32mFalse\u001b[0m\u001b[1;33m\u001b[0m\u001b[0m\n\u001b[0;32m    112\u001b[0m     \u001b[1;32mwhile\u001b[0m\u001b[1;33m(\u001b[0m\u001b[1;32mnot\u001b[0m \u001b[0mfinished\u001b[0m\u001b[1;33m)\u001b[0m\u001b[1;33m:\u001b[0m\u001b[1;33m\u001b[0m\u001b[0m\n\u001b[1;32m--> 113\u001b[1;33m         \u001b[0miterator\u001b[0m\u001b[1;33m.\u001b[0m\u001b[0mMakeStep\u001b[0m\u001b[1;33m(\u001b[0m\u001b[1;33m)\u001b[0m\u001b[1;33m\u001b[0m\u001b[0m\n\u001b[0m\u001b[0;32m    114\u001b[0m         \u001b[0mnext\u001b[0m \u001b[1;33m=\u001b[0m \u001b[0miterator\u001b[0m\u001b[1;33m.\u001b[0m\u001b[0mValue\u001b[0m\u001b[1;33m\u001b[0m\u001b[0m\n\u001b[0;32m    115\u001b[0m         \u001b[0mfinished\u001b[0m \u001b[1;33m=\u001b[0m \u001b[1;33m(\u001b[0m\u001b[0mnp\u001b[0m\u001b[1;33m.\u001b[0m\u001b[0mabs\u001b[0m\u001b[1;33m(\u001b[0m\u001b[0mnext\u001b[0m \u001b[1;33m-\u001b[0m \u001b[0mprev\u001b[0m\u001b[1;33m)\u001b[0m \u001b[1;33m<\u001b[0m \u001b[0mmistake\u001b[0m\u001b[1;33m)\u001b[0m\u001b[1;33m\u001b[0m\u001b[0m\n",
      "\u001b[1;32m<ipython-input-12-99989432c30d>\u001b[0m in \u001b[0;36mMakeStep\u001b[1;34m(self)\u001b[0m\n\u001b[0;32m     49\u001b[0m         \u001b[0mself\u001b[0m\u001b[1;33m.\u001b[0m\u001b[0m__value\u001b[0m \u001b[1;33m=\u001b[0m \u001b[0moracle\u001b[0m\u001b[1;33m.\u001b[0m\u001b[0mCalculate\u001b[0m\u001b[1;33m(\u001b[0m\u001b[0mbegin\u001b[0m\u001b[1;33m)\u001b[0m\u001b[1;33m\u001b[0m\u001b[0m\n\u001b[0;32m     50\u001b[0m     \u001b[1;32mdef\u001b[0m \u001b[0mMakeStep\u001b[0m\u001b[1;33m(\u001b[0m\u001b[0mself\u001b[0m\u001b[1;33m)\u001b[0m\u001b[1;33m:\u001b[0m\u001b[1;33m\u001b[0m\u001b[0m\n\u001b[1;32m---> 51\u001b[1;33m         \u001b[0mgess\u001b[0m \u001b[1;33m=\u001b[0m \u001b[0mself\u001b[0m\u001b[1;33m.\u001b[0m\u001b[0m__oracle\u001b[0m\u001b[1;33m.\u001b[0m\u001b[0mCalculateGessian\u001b[0m\u001b[1;33m(\u001b[0m\u001b[0mself\u001b[0m\u001b[1;33m.\u001b[0m\u001b[0m__point\u001b[0m\u001b[1;33m)\u001b[0m\u001b[1;33m\u001b[0m\u001b[0m\n\u001b[0m\u001b[0;32m     52\u001b[0m         \u001b[0mgrad\u001b[0m \u001b[1;33m=\u001b[0m \u001b[0mself\u001b[0m\u001b[1;33m.\u001b[0m\u001b[0m__oracle\u001b[0m\u001b[1;33m.\u001b[0m\u001b[0mCalculateGradient\u001b[0m\u001b[1;33m(\u001b[0m\u001b[0mself\u001b[0m\u001b[1;33m.\u001b[0m\u001b[0m__point\u001b[0m\u001b[1;33m)\u001b[0m\u001b[1;33m\u001b[0m\u001b[0m\n\u001b[0;32m     53\u001b[0m         \u001b[0mgess\u001b[0m \u001b[1;33m=\u001b[0m \u001b[0mnp\u001b[0m\u001b[1;33m.\u001b[0m\u001b[0mlinalg\u001b[0m\u001b[1;33m.\u001b[0m\u001b[0minv\u001b[0m\u001b[1;33m(\u001b[0m\u001b[0mself\u001b[0m\u001b[1;33m.\u001b[0m\u001b[0m__normalizator\u001b[0m\u001b[1;33m(\u001b[0m\u001b[0mgess\u001b[0m\u001b[1;33m)\u001b[0m\u001b[1;33m)\u001b[0m\u001b[1;33m\u001b[0m\u001b[0m\n",
      "\u001b[1;32m<ipython-input-12-99989432c30d>\u001b[0m in \u001b[0;36mCalculateGessian\u001b[1;34m(self, x)\u001b[0m\n\u001b[0;32m     19\u001b[0m     \u001b[1;32mdef\u001b[0m \u001b[0mCalculateGessian\u001b[0m\u001b[1;33m(\u001b[0m\u001b[0mself\u001b[0m\u001b[1;33m,\u001b[0m \u001b[0mx\u001b[0m\u001b[1;33m)\u001b[0m\u001b[1;33m:\u001b[0m\u001b[1;33m\u001b[0m\u001b[0m\n\u001b[0;32m     20\u001b[0m         \u001b[0mself\u001b[0m\u001b[1;33m.\u001b[0m\u001b[0m__gess\u001b[0m \u001b[1;33m+=\u001b[0m \u001b[1;36m1\u001b[0m\u001b[1;33m\u001b[0m\u001b[0m\n\u001b[1;32m---> 21\u001b[1;33m         \u001b[1;32mreturn\u001b[0m \u001b[1;33m-\u001b[0m\u001b[1;36m1.0\u001b[0m \u001b[1;33m*\u001b[0m \u001b[0mself\u001b[0m\u001b[1;33m.\u001b[0m\u001b[0m__p\u001b[0m \u001b[1;33m@\u001b[0m \u001b[0mnp\u001b[0m\u001b[1;33m.\u001b[0m\u001b[0mdiagflat\u001b[0m\u001b[1;33m(\u001b[0m\u001b[0mself\u001b[0m\u001b[1;33m.\u001b[0m\u001b[0m__pi\u001b[0m \u001b[1;33m*\u001b[0m \u001b[1;33m(\u001b[0m\u001b[0mself\u001b[0m\u001b[1;33m.\u001b[0m\u001b[0m__p\u001b[0m\u001b[1;33m.\u001b[0m\u001b[0mT\u001b[0m \u001b[1;33m@\u001b[0m \u001b[0mx\u001b[0m\u001b[1;33m)\u001b[0m\u001b[1;33m**\u001b[0m\u001b[1;33m(\u001b[0m\u001b[1;33m-\u001b[0m\u001b[1;36m2\u001b[0m\u001b[1;33m)\u001b[0m\u001b[1;33m)\u001b[0m \u001b[1;33m@\u001b[0m \u001b[0mself\u001b[0m\u001b[1;33m.\u001b[0m\u001b[0m__p\u001b[0m\u001b[1;33m.\u001b[0m\u001b[0mT\u001b[0m\u001b[1;33m-\u001b[0m\u001b[0mt\u001b[0m \u001b[1;33m*\u001b[0m \u001b[0mnp\u001b[0m\u001b[1;33m.\u001b[0m\u001b[0mdiag\u001b[0m\u001b[1;33m(\u001b[0m\u001b[1;33m[\u001b[0m\u001b[1;36m1\u001b[0m \u001b[1;33m/\u001b[0m \u001b[0mxi\u001b[0m\u001b[1;33m**\u001b[0m\u001b[1;36m2\u001b[0m \u001b[1;32mfor\u001b[0m \u001b[0mxi\u001b[0m \u001b[1;32min\u001b[0m \u001b[0mx\u001b[0m\u001b[1;33m]\u001b[0m\u001b[1;33m)\u001b[0m\u001b[1;33m\u001b[0m\u001b[0m\n\u001b[0m\u001b[0;32m     22\u001b[0m \u001b[1;33m\u001b[0m\u001b[0m\n\u001b[0;32m     23\u001b[0m     \u001b[1;33m@\u001b[0m\u001b[0mproperty\u001b[0m\u001b[1;33m\u001b[0m\u001b[0m\n",
      "\u001b[1;31mNameError\u001b[0m: name 't' is not defined"
     ]
    }
   ],
   "source": [
    "n = 10\n",
    "m = 100\n",
    "\n",
    "p = np.abs(np.random.rand(n, m) * 3 + 5)\n",
    "pi = np.abs(np.random.rand(m))\n",
    "pi /= np.sum(pi)\n",
    "\n",
    "begin = np.ones(n) / n\n",
    "\n",
    "iterator = GraphicInnerPoint(begin, p, pi, 10**(-10))\n",
    "\n",
    "print(\"Calculated:\")\n",
    "print(\"Function: \", iterator.Oracle.Calculated)\n",
    "print(\"Gradient: \", iterator.Oracle.CalculatedGradients)\n",
    "print(\"Gessian: \", iterator.Oracle.CalculatedGessians)\n",
    "print(\"Point: \", iterator.Point)\n",
    "print(\"Value: \", iterator.Value)\n",
    "IterationsMistake(n, m, 10**(-1 * np.arange(1, 44) / 4.0))"
   ]
  },
  {
   "cell_type": "code",
   "execution_count": 10,
   "metadata": {},
   "outputs": [
    {
     "data": {
      "text/plain": [
       "array([[0., 1.],\n",
       "       [1., 0.]])"
      ]
     },
     "execution_count": 10,
     "metadata": {},
     "output_type": "execute_result"
    }
   ],
   "source": [
    "a"
   ]
  },
  {
   "cell_type": "code",
   "execution_count": 4,
   "metadata": {},
   "outputs": [
    {
     "data": {
      "text/plain": [
       "array([[1., 1.],\n",
       "       [1., 1.]])"
      ]
     },
     "execution_count": 4,
     "metadata": {},
     "output_type": "execute_result"
    }
   ],
   "source": [
    "np.ones((2, 2))"
   ]
  },
  {
   "cell_type": "code",
   "execution_count": 5,
   "metadata": {},
   "outputs": [
    {
     "data": {
      "text/plain": [
       "array([[0.]])"
      ]
     },
     "execution_count": 5,
     "metadata": {},
     "output_type": "execute_result"
    }
   ],
   "source": [
    "np.zeros((1, 1))"
   ]
  },
  {
   "cell_type": "code",
   "execution_count": 9,
   "metadata": {},
   "outputs": [],
   "source": [
    "a[-1,-1] = 0"
   ]
  },
  {
   "cell_type": "code",
   "execution_count": null,
   "metadata": {},
   "outputs": [],
   "source": []
  }
 ],
 "metadata": {
  "kernelspec": {
   "display_name": "Python 3",
   "language": "python",
   "name": "python3"
  },
  "language_info": {
   "codemirror_mode": {
    "name": "ipython",
    "version": 3
   },
   "file_extension": ".py",
   "mimetype": "text/x-python",
   "name": "python",
   "nbconvert_exporter": "python",
   "pygments_lexer": "ipython3",
   "version": "3.7.0"
  }
 },
 "nbformat": 4,
 "nbformat_minor": 2
}
